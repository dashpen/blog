{
 "cells": [
  {
   "attachments": {},
   "cell_type": "markdown",
   "metadata": {},
   "source": [
    "# Binary/Data Terms\n",
    "bits: binary digit, either a 1 or 0\n",
    "bytes: a group of bits, usually 8, as a unit\n",
    "hexadecimal: a numbering system with base 16 (0, 1, 2, 3, 4, 5, 6, 7, 8, 9, 10, a, b, c, e, f)\n",
    "## Binary Numbers\n",
    "unsigned integer: An integer that doesn't have a sign (can't be negative)\n",
    "signed integer: an integer that does have a sign (can be negative)\n",
    "floating point: a way to represent a number approximately and has decimals\n",
    "## Binary Data Abstractions\n",
    "boolean: true or false\n",
    "ASCII: also the American Standard Code for Information Interchange is an encoding standard for computer communication\n",
    "Unicode: A standard or all characters around the world (includes emojis)\n",
    "RGB: red green blue, one way to represent a color for a computer\n",
    "## Data Compression\n",
    "Lossy: A way of compressing data that looses some of the detail an quality\n",
    "Lossless: A way of compressing data that keeps all of the quality (bigger file size)\n",
    "\n",
    "# Algorithm/Programming Terms\n",
    "\n",
    "Variables: A way to store data in a program\n",
    "Data Types: The types of data stored in memory (boolean, integer, double, etc.)\n",
    "Assignment Operators: A way of changing the data in a variable, usually =\n",
    "\n",
    "## Managing Complexity With Variables\n",
    "List: In Python a way to store many variables in one variable and be able to call all of them\n",
    "2D List: A list with no iterables inside it\n",
    "Dictionaries: A way to add a key to a value (like switch/case)\n",
    "Class: A way to store methods in a package\n",
    "Algorithm: A way to make a chunk of code do something\n",
    "Sequence: An amount of tasks that run one after the other\n",
    "Selection: In a dictionary the value is what is selected\n",
    "Iteration: Running the same (or similar) code multiple times\n",
    "Expressions: A bit of math that is run\n",
    "Comparison Operators: "
   ]
  }
 ],
 "metadata": {
  "kernelspec": {
   "display_name": "Python 3.9.12 ('base')",
   "language": "python",
   "name": "python3"
  },
  "language_info": {
   "name": "python",
   "version": "3.9.12 (main, Apr  5 2022, 06:56:58) \n[GCC 7.5.0]"
  },
  "orig_nbformat": 4,
  "vscode": {
   "interpreter": {
    "hash": "0324bdc6d0dda31d2e044164ff9618807e4511392db47dfcc9eb3e8251956324"
   }
  }
 },
 "nbformat": 4,
 "nbformat_minor": 2
}
