{
 "cells": [
  {
   "attachments": {},
   "cell_type": "markdown",
   "metadata": {},
   "source": [
    "# Vocab\n",
    "> Some vocab\n",
    "\n",
    "- layout: post\n",
    "- toc: true\n",
    "- badges: false\n",
    "- comments: true"
   ]
  },
  {
   "attachments": {},
   "cell_type": "markdown",
   "metadata": {},
   "source": [
    "# Binary/Data Terms\n",
    "bits: binary digit, either a 1 or 0 <br>\n",
    "bytes: a group of bits, usually 8, as a unit<br>\n",
    "hexadecimal: a numbering system with base 16 (0, 1, 2, 3, 4, 5, 6, 7, 8, 9, 10, a, b, c, e, f)<br>\n",
    "## Binary Numbers\n",
    "unsigned integer: An integer that doesn't have a sign (can't be negative)<br>\n",
    "signed integer: an integer that does have a sign (can be negative)<br>\n",
    "floating point: a way to represent a number approximately and has decimals<br>\n",
    "## Binary Data Abstractions\n",
    "boolean: true or false<br>\n",
    "ASCII: also the American Standard Code for Information Interchange is an encoding standard for computer communication<br>\n",
    "Unicode: A standard or all characters around the world (includes emojis)<br>\n",
    "RGB: red green blue, one way to represent a color for a computer<br>\n",
    "## Data Compression\n",
    "Lossy: A way of compressing data that looses some of the detail an quality<br>\n",
    "Lossless: A way of compressing data that keeps all of the quality (bigger file size)<br>\n",
    "\n",
    "# Algorithm/Programming Terms\n",
    "\n",
    "Variables: A way to store data in a program<br>\n",
    "Data Types: The types of data stored in memory (boolean, integer, double, etc.)<br>\n",
    "Assignment Operators: A way of changing the data in a variable, usually =<br>\n",
    "\n",
    "## Managing Complexity With Variables\n",
    "List: In Python a way to store many variables in one variable and be able to call all of them like 'list = [1, 2, 3, 4, 5]'<br>\n",
    "2D List: A list with no iterables inside it<br>\n",
    "Dictionaries: A way to add a key to a value (like switch/case)<br>\n",
    "Class: A way to store methods in a package<br>\n",
    "Algorithm: A way to make a chunk of code do something<br>\n",
    "Sequence: An amount of tasks that run one after the other<br>\n",
    "Selection: In a dictionary the value is what is selected<br>\n",
    "Iteration: Running the same (or similar) code multiple times<br>\n",
    "Expressions: A bit of math that is run<br>\n",
    "Comparison Operators: Logic that compares variables like < > == !=<br>\n",
    "Boolean Expressions: Math that is done with booleans<br>\n",
    "Truth Table: A table to help with logical operations<br>\n",
    "Character: a single character in unicode like 'a' <br>\n",
    "String: A collection of characters like \"allo\"<br>\n",
    "Length: The length of a string or an iterable like len(list)<br>\n",
    "Concatenation: Connecting strings, characters, or variables together to make a string like print(\"Hello\" + \" World!\")<br>\n",
    "Upper: Making a string or char uppercase<br>\n",
    "Lower: Making a string or char lowercase<br>\n",
    "\n",
    "## Python\n",
    "If: If this, do that, else do this<br>\n",
    "'if(boolean):<br>\n",
    "    print(\"thing\")'<br>\n",
    "Elif: If not this, then if this?<br>\n",
    "'if(this):<br>\n",
    "    print(\"thing\")<br>\n",
    " elif(other thing):<br>\n",
    "    print(\"other thing\")'<br>\n",
    "Nested Selection: If this, then if this, then if this, then if this??<br>\n",
    "For: loops through a list of numbers or a list itself as in 'for each in list: print(each)'<br>\n",
    "While: do something until the conditional is true as in 'while (i < 10): i += 1'<br>\n",
    "Break: stops a loop as in 'while (True): if(this): break'<br>\n",
    "Continue: Ignores other if statements<br>\n",
    "'if (this)<br>\n",
    "    print(\"this\")<br>\n",
    "    continue<br>\n",
    " else if (this + that):<br>\n",
    "    print( this ^2 )'<br>\n",
    "Procedural Abstraction: Giving code a name like 'def doSomething(something): print(something)'<br>\n",
    "Def: makes a function that can be called<br>\n",
    "Parameters: parentheses in a function that the code can use to be run differently with different inputs<br>\n",
    "Return statements: can turn functions into variables that can be used in code with the return value being the value that is used as a variable<br>\n"
   ]
  }
 ],
 "metadata": {
  "kernelspec": {
   "display_name": "Python 3.9.12 ('base')",
   "language": "python",
   "name": "python3"
  },
  "language_info": {
   "name": "python",
   "version": "3.9.12 (main, Apr  5 2022, 06:56:58) \n[GCC 7.5.0]"
  },
  "orig_nbformat": 4,
  "vscode": {
   "interpreter": {
    "hash": "0324bdc6d0dda31d2e044164ff9618807e4511392db47dfcc9eb3e8251956324"
   }
  }
 },
 "nbformat": 4,
 "nbformat_minor": 2
}
