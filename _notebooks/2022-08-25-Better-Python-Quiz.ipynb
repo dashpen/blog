{
 "cells": [
  {
   "cell_type": "markdown",
   "metadata": {},
   "source": [
    "# Better Python Quiz\n",
    "> It's better\n",
    "\n",
    "- toc: true \n",
    "- badges: true\n",
    "- comments: true\n",
    "- categories: [jupyter], [python]"
   ]
  },
  {
   "cell_type": "markdown",
   "metadata": {},
   "source": [
    "## The Quiz\n",
    "This quiz uses variables to store the questions and answers, so you can change them right at the top of the file, all in one place. It also has 2 integers for tracking the amount of questions and how many correct answers\n",
    "\n",
    "It also uses a for loop to iterate between these lists, changing the amount of correct answers if you get one correct.\n",
    "\n",
    "After all of that it tells you your percentage of correct answers."
   ]
  },
  {
   "cell_type": "code",
   "execution_count": 2,
   "metadata": {},
   "outputs": [
    {
     "name": "stdout",
     "output_type": "stream",
     "text": [
      "What command is used to include other functions that are developed?\n",
      "'import' is right :)\n",
      "What command in this example is used to evaluate a response?\n",
      "'if' is right :)\n",
      "Each 'if' command contains an '_________' to determine a true or false condition?\n",
      "'expression' is right :)\n",
      "What function is used to turn an int into a string?\n",
      "no, 'toString()' is incorrect, 'str' is right\n",
      "What is keyword is used to make functions?\n",
      "'def' is right :)\n",
      "You got 80.0% of the questions correct\n"
     ]
    }
   ],
   "source": [
    "# All of the questions as strings\n",
    "firstQ = 'What command is used to include other functions that are developed?'\n",
    "secondQ = 'What command in this example is used to evaluate a response?'\n",
    "thirdQ = \"Each 'if' command contains an '_________' to determine a true or false condition?\"\n",
    "fourthQ = \"What function is used to turn an int into a string?\"\n",
    "fifthQ = \"What is keyword is used to make functions?\"\n",
    "\n",
    "# Questions in a list\n",
    "questions = [firstQ, secondQ, thirdQ, fourthQ, fifthQ]\n",
    "\n",
    "# All of the answers\n",
    "firstA = 'import'\n",
    "secondA = 'if'\n",
    "thirdA = 'expression'\n",
    "fourthA = 'str'\n",
    "fifthQ = 'def'\n",
    "\n",
    "# Answers in a list\n",
    "answers = [firstA, secondA, thirdA, fourthA, fifthQ]\n",
    "\n",
    "# Amount of correct answers, starts at 0\n",
    "correct = 0\n",
    "# Amount of questions based on how many are in the list\n",
    "questionsAmount = len(questions)\n",
    "\n",
    "# Main execution of code, runs based on how many questions there are.\n",
    "# Prints the question then checks if the input is the same as the corresponding answer.\n",
    "for x in range(questionsAmount):\n",
    "    print(questions[x])\n",
    "    inp = input()\n",
    "    if inp == answers[x]:\n",
    "        print(\"'\" + inp + \"' is right :)\")\n",
    "        correct += 1\n",
    "    else:\n",
    "        print(\"no, '\" + inp + \"' is incorrect, '\" + answers[x] + \"' is right\")\n",
    "\n",
    "# Ending statement\n",
    "print(\"You got \" + str((correct/questionsAmount) * 100)[0:5] + \"% of the questions correct\")"
   ]
  },
  {
   "cell_type": "code",
   "execution_count": null,
   "metadata": {},
   "outputs": [],
   "source": []
  }
 ],
 "metadata": {
  "kernelspec": {
   "display_name": "Python 3.8.10 64-bit",
   "language": "python",
   "name": "python3"
  },
  "language_info": {
   "codemirror_mode": {
    "name": "ipython",
    "version": 3
   },
   "file_extension": ".py",
   "mimetype": "text/x-python",
   "name": "python",
   "nbconvert_exporter": "python",
   "pygments_lexer": "ipython3",
   "version": "3.8.10"
  },
  "orig_nbformat": 4,
  "vscode": {
   "interpreter": {
    "hash": "916dbcbb3f70747c44a77c7bcd40155683ae19c65e1c03b4aa3499c5328201f1"
   }
  }
 },
 "nbformat": 4,
 "nbformat_minor": 2
}
