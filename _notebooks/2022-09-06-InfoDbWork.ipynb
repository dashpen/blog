{
 "cells": [
  {
   "cell_type": "markdown",
   "metadata": {},
   "source": [
    "# InfoDb Input\n",
    "> with input!\n",
    "\n",
    "- toc: true\n",
    "- badges: true\n",
    "- comments: true\n",
    "- categories: [jupyter]"
   ]
  },
  {
   "cell_type": "markdown",
   "metadata": {},
   "source": [
    "## The Contents\n",
    "\n",
    "This code has a list of dictionaries, the first of which is full of data and the second is empty. The loop takes the keys and asks you what you want to assign them to. It then prints that data in a easy to understand way. sssssss\n"
   ]
  },
  {
   "cell_type": "code",
   "execution_count": 1,
   "metadata": {},
   "outputs": [
    {
     "name": "stdout",
     "output_type": "stream",
     "text": [
      "What is your first name?:\n",
      "What is your last name?:\n",
      "What is your current advanced placement classes?:\n",
      "What is your high school?:\n",
      "What is your phone model?:\n",
      "Name: Dash Penning\n",
      " \t Attending High School At: Del Norte\n",
      " \t Current Phone Model: IPhone 8\n",
      " \t Current APs: APCSP, Calc BC, AP Physics C\n",
      "\n"
     ]
    }
   ],
   "source": [
    "# collapse_show\n",
    "InfoDb = []\n",
    "\n",
    "# Starter InfoDb\n",
    "InfoDb.append({\n",
    "    \"First Name\" : \"Dash\",\n",
    "    \"Last Name\"  : \"Penning\",\n",
    "    \"Current APs\" : [\"CSP\", \"Calc BC\", \"Physics C\"],\n",
    "    \"High School\" : \"Del Norte\",\n",
    "    \"Phone Model\" : \"Iphone 8\"\n",
    "})\n",
    "\n",
    "# Blank InfoDb entry\n",
    "InfoDb.append({\n",
    "    \"First Name\" : \"\",\n",
    "    \"Last Name\"  : \"\",\n",
    "    \"Current Advanced Placement Classes\" : [],\n",
    "    \"High School\" : \"\",\n",
    "    \"Phone Model\" : \"\"\n",
    "})\n",
    "\n",
    "# Takes the keys and uses them to ask you what you change in the data\n",
    "def changeData(list):\n",
    "    for each in list.keys():\n",
    "        print(\"What is your \"+ each.lower() + \"?:\")\n",
    "        inp = input()\n",
    "        list[each] = inp\n",
    "\n",
    "\n",
    "# Quick and dirty way to print the data (works with any infoDb)\n",
    "def data_print(lest):\n",
    "    for each in lest.keys():\n",
    "        print(\"\\t\" + each + \": \" + str(lest[each]))\n",
    "\n",
    "\n",
    "# Way to print the data in a nice way\n",
    "def data_print_fancy(list):\n",
    "    print(\"Name:\", list[\"First Name\"], list[\"Last Name\"] + \n",
    "    \"\\n \\t Attending High School At:\", list[\"High School\"] +\n",
    "    \"\\n \\t Current Phone Model:\", list[\"Phone Model\"] +\n",
    "    \"\\n \\t Current APs:\", end=\"\")\n",
    "    print(\" \" + list[\"Current Advanced Placement Classes\"])\n",
    "    print()\n",
    "\n",
    "# Calling the above commands\n",
    "changeData(InfoDb[1])\n",
    "data_print_fancy(InfoDb[1])"
   ]
  }
 ],
 "metadata": {
  "kernelspec": {
   "display_name": "Python 3.8.10 64-bit",
   "language": "python",
   "name": "python3"
  },
  "language_info": {
   "codemirror_mode": {
    "name": "ipython",
    "version": 3
   },
   "file_extension": ".py",
   "mimetype": "text/x-python",
   "name": "python",
   "nbconvert_exporter": "python",
   "pygments_lexer": "ipython3",
   "version": "3.8.10"
  },
  "orig_nbformat": 4,
  "vscode": {
   "interpreter": {
    "hash": "916dbcbb3f70747c44a77c7bcd40155683ae19c65e1c03b4aa3499c5328201f1"
   }
  }
 },
 "nbformat": 4,
 "nbformat_minor": 2
}
