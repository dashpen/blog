{
 "cells": [
  {
   "cell_type": "code",
   "execution_count": null,
   "metadata": {},
   "outputs": [],
   "source": []
  },
  {
   "cell_type": "markdown",
   "metadata": {},
   "source": [
    "# HW Iteration\n",
    "Use the list below to turn the first letter of any word (using input()) into its respective NATO phonetic alphabet word\n",
    "\n",
    "Ex:\n",
    "\n",
    "list ->\n",
    "\n",
    "lima\n",
    "india\n",
    "sierra\n",
    "tango"
   ]
  },
  {
   "cell_type": "code",
   "execution_count": null,
   "metadata": {},
   "outputs": [],
   "source": [
    "words = [\"alfa\", \"bravo\", \"charlie\", \"delta\", \"echo\", \"foxtrot\", \"golf\", \"hotel\", \"india\", \"juliett\", \"kilo\",\n",
    "\"lima\", \"mike\", \"november\", \"oscar\", \"papa\", \"quebec\", \"romeo\", \"sierra\", \"tango\", \"uniform\", \"victor\", \"whiskey\", \"xray\", \"yankee\", \"zulu\"]\n",
    "\n",
    "inp = input().lower()"
   ]
  },
  {
   "cell_type": "code",
   "execution_count": 4,
   "metadata": {},
   "outputs": [
    {
     "name": "stdout",
     "output_type": "stream",
     "text": [
      "echo\n",
      "lima\n",
      "lima\n",
      "oscar\n"
     ]
    }
   ],
   "source": [
    "alphabet = [\"a\", \"b\", \"c\", 'd', 'e',\"f\", \"g\", \"h\", 'i', 'j', \"k\", \"l\", \"m\", 'n', 'o', \"p\", \"q\", \"r\", 's', 't', \"u\", \"v\", \"w\", 'x', 'y', \"z\"]\n",
    "\n",
    "words = [\"alfa\", \"bravo\", \"charlie\", \"delta\", \"echo\", \"foxtrot\", \"golf\", \"hotel\", \"india\", \"juliett\", \"kilo\",\n",
    "\"lima\", \"mike\", \"november\", \"oscar\", \"papa\", \"quebec\", \"romeo\", \"sierra\", \"tango\", \"uniform\", \"victor\", \"whiskey\", \"xray\", \"yankee\", \"zulu\"]\n",
    "\n",
    "inp = input().lower()\n",
    "\n",
    "for ele in inp:\n",
    "    count = 0\n",
    "    for el in alphabet:\n",
    "        if (el == ele):\n",
    "            print(words[count])\n",
    "        count = count + 1\n",
    "        "
   ]
  },
  {
   "cell_type": "markdown",
   "metadata": {},
   "source": [
    "# Activity\n",
    "Simply make this jumble of strings into a list (should be like 4 or 5 lines of code)"
   ]
  },
  {
   "cell_type": "code",
   "execution_count": 10,
   "metadata": {},
   "outputs": [
    {
     "name": "stdout",
     "output_type": "stream",
     "text": [
      "alfa\n",
      "bravo\n",
      "charlie\n",
      "delta\n",
      "echo\n",
      "0\n",
      "7\n",
      "30\n",
      "100\n",
      "2\n"
     ]
    }
   ],
   "source": [
    "thing0 = \"alfa\"\n",
    "thing1 = \"bravo\"\n",
    "thing2 = \"charlie\"\n",
    "thing3 = \"delta\"\n",
    "thing4 = \"echo\"\n",
    "print(thing0)\n",
    "print(thing1)\n",
    "print(thing2)\n",
    "print(thing3)\n",
    "print(thing4)\n",
    "\n",
    "number0 = 0\n",
    "number1 = 7\n",
    "number2 = 30\n",
    "number3 = 100\n",
    "number4 = 2\n",
    "print(number0)\n",
    "print(number1)\n",
    "print(number2)\n",
    "print(number3)\n",
    "print(number4)"
   ]
  },
  {
   "cell_type": "code",
   "execution_count": 2,
   "metadata": {},
   "outputs": [
    {
     "name": "stdout",
     "output_type": "stream",
     "text": [
      "5\n"
     ]
    }
   ],
   "source": [
    "list = [\"one\", \"two\", \"three\", \"four\", \"five\"]"
   ]
  },
  {
   "cell_type": "code",
   "execution_count": 9,
   "metadata": {},
   "outputs": [
    {
     "name": "stdout",
     "output_type": "stream",
     "text": [
      "1\n"
     ]
    },
    {
     "ename": "ValueError",
     "evalue": "list.remove(x): x not in list",
     "output_type": "error",
     "traceback": [
      "\u001b[0;31m---------------------------------------------------------------------------\u001b[0m",
      "\u001b[0;31mValueError\u001b[0m                                Traceback (most recent call last)",
      "\u001b[1;32m/home/dashpen/vscode/blog/_notebooks/2022-11-30-Activity.ipynb Cell 7\u001b[0m in \u001b[0;36m<cell line: 14>\u001b[0;34m()\u001b[0m\n\u001b[1;32m     <a href='vscode-notebook-cell://wsl%2Bubuntu/home/dashpen/vscode/blog/_notebooks/2022-11-30-Activity.ipynb#W2sdnNjb2RlLXJlbW90ZQ%3D%3D?line=11'>12</a>\u001b[0m             temp\u001b[39m.\u001b[39mremove(mini)\n\u001b[1;32m     <a href='vscode-notebook-cell://wsl%2Bubuntu/home/dashpen/vscode/blog/_notebooks/2022-11-30-Activity.ipynb#W2sdnNjb2RlLXJlbW90ZQ%3D%3D?line=12'>13</a>\u001b[0m         \u001b[39mprint\u001b[39m(newList)\n\u001b[0;32m---> <a href='vscode-notebook-cell://wsl%2Bubuntu/home/dashpen/vscode/blog/_notebooks/2022-11-30-Activity.ipynb#W2sdnNjb2RlLXJlbW90ZQ%3D%3D?line=13'>14</a>\u001b[0m sort(\u001b[39mlist\u001b[39;49m)\n",
      "\u001b[1;32m/home/dashpen/vscode/blog/_notebooks/2022-11-30-Activity.ipynb Cell 7\u001b[0m in \u001b[0;36msort\u001b[0;34m(list)\u001b[0m\n\u001b[1;32m     <a href='vscode-notebook-cell://wsl%2Bubuntu/home/dashpen/vscode/blog/_notebooks/2022-11-30-Activity.ipynb#W2sdnNjb2RlLXJlbW90ZQ%3D%3D?line=9'>10</a>\u001b[0m         \u001b[39mprint\u001b[39m(mini)\n\u001b[1;32m     <a href='vscode-notebook-cell://wsl%2Bubuntu/home/dashpen/vscode/blog/_notebooks/2022-11-30-Activity.ipynb#W2sdnNjb2RlLXJlbW90ZQ%3D%3D?line=10'>11</a>\u001b[0m     newList\u001b[39m.\u001b[39mappend(mini)\n\u001b[0;32m---> <a href='vscode-notebook-cell://wsl%2Bubuntu/home/dashpen/vscode/blog/_notebooks/2022-11-30-Activity.ipynb#W2sdnNjb2RlLXJlbW90ZQ%3D%3D?line=11'>12</a>\u001b[0m     temp\u001b[39m.\u001b[39;49mremove(mini)\n\u001b[1;32m     <a href='vscode-notebook-cell://wsl%2Bubuntu/home/dashpen/vscode/blog/_notebooks/2022-11-30-Activity.ipynb#W2sdnNjb2RlLXJlbW90ZQ%3D%3D?line=12'>13</a>\u001b[0m \u001b[39mprint\u001b[39m(newList)\n",
      "\u001b[0;31mValueError\u001b[0m: list.remove(x): x not in list"
     ]
    }
   ],
   "source": [
    "list = [3, 5, 1, 6, 2]\n",
    "def sort(list):\n",
    "    newList = []\n",
    "    temp = list\n",
    "    for i in range(len(temp)):\n",
    "        mini = temp[0]\n",
    "        for each in temp:\n",
    "            if each < mini:\n",
    "                mini = each\n",
    "                print(mini)\n",
    "            newList.append(mini)\n",
    "            temp.remove(mini)\n",
    "        print(newList)\n",
    "sort(list)\n",
    "            \n",
    "        \n"
   ]
  },
  {
   "cell_type": "code",
   "execution_count": 20,
   "metadata": {},
   "outputs": [
    {
     "name": "stdout",
     "output_type": "stream",
     "text": [
      "zulu\n",
      "25\n",
      "yankee\n",
      "24\n",
      "xray\n",
      "23\n",
      "whiskey\n",
      "22\n",
      "victor\n",
      "21\n",
      "uniform\n",
      "20\n",
      "tango\n",
      "19\n",
      "sierra\n",
      "18\n",
      "romeo\n",
      "17\n",
      "quebec\n",
      "16\n",
      "papa\n",
      "15\n",
      "oscar\n",
      "14\n",
      "november\n",
      "13\n",
      "november\n",
      "12\n",
      "oscar\n",
      "11\n",
      "papa\n",
      "10\n",
      "quebec\n",
      "9\n",
      "romeo\n",
      "8\n",
      "sierra\n",
      "7\n",
      "tango\n",
      "6\n",
      "uniform\n",
      "5\n",
      "victor\n",
      "4\n",
      "whiskey\n",
      "3\n",
      "xray\n",
      "2\n",
      "yankee\n",
      "1\n",
      "zulu\n",
      "0\n",
      "['zulu', 'yankee', 'xray', 'whiskey', 'victor', 'uniform', 'tango', 'sierra', 'romeo', 'quebec', 'papa', 'oscar', 'november', 'november', 'oscar', 'papa', 'quebec', 'romeo', 'sierra', 'tango', 'uniform', 'victor', 'whiskey', 'xray', 'yankee', 'zulu']\n"
     ]
    }
   ],
   "source": [
    "list = [\"alfa\", \"bravo\", \"charlie\", \"delta\", \"echo\", \"foxtrot\", \"golf\", \"hotel\", \"india\", \"juliett\", \"kilo\",\n",
    "\"lima\", \"mike\", \"november\", \"oscar\", \"papa\", \"quebec\", \"romeo\", \"sierra\", \"tango\", \"uniform\", \"victor\", \"whiskey\", \"xray\", \"yankee\", \"zulu\"]\n",
    "\n",
    "temp = list\n",
    "temp2 = temp\n",
    "\n",
    "for each in range(len(list)):\n",
    "    print(temp2[len(list) - each - 1])\n",
    "    print(len(list) - each - 1)\n",
    "    temp[each] = list[len(list) - each - 1]\n",
    "print(temp)\n"
   ]
  }
 ],
 "metadata": {
  "kernelspec": {
   "display_name": "Python 3.9.12 ('base')",
   "language": "python",
   "name": "python3"
  },
  "language_info": {
   "codemirror_mode": {
    "name": "ipython",
    "version": 3
   },
   "file_extension": ".py",
   "mimetype": "text/x-python",
   "name": "python",
   "nbconvert_exporter": "python",
   "pygments_lexer": "ipython3",
   "version": "3.9.12"
  },
  "orig_nbformat": 4,
  "vscode": {
   "interpreter": {
    "hash": "0324bdc6d0dda31d2e044164ff9618807e4511392db47dfcc9eb3e8251956324"
   }
  }
 },
 "nbformat": 4,
 "nbformat_minor": 2
}
