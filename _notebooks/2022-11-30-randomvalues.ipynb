{
 "cells": [
  {
   "cell_type": "markdown",
   "metadata": {},
   "source": [
    "# \"Unit 3 Sections 14 and 15\"\n",
    "> \"Libraries and Random Values\"\n",
    " \n",
    "- toc: true\n",
    "- branch: master\n",
    "- badges: true\n",
    "- comments: true\n",
    "- permalink: /jupyter/libraries\n",
    "- categories: [jupyter,markdown]"
   ]
  },
  {
   "cell_type": "markdown",
   "metadata": {},
   "source": [
    "<style>\n",
    "    .coolCode {\n",
    "        color: #FFFFFF;\n",
    "        font-family: monospace;\n",
    "        border: 1px solid #404040;\n",
    "        border-radius: 3px;\n",
    "        background-color: #212121;\n",
    "        padding: 1px 5px;\n",
    "        font-size: 20px\n",
    "    }\n",
    "</style>"
   ]
  },
  {
   "attachments": {},
   "cell_type": "markdown",
   "metadata": {},
   "source": [
    "### wget https://raw.githubusercontent.com/aidenhuynh/CS_Swag/master/_notebooks/2022-11-30-randomvalues.ipynb\n",
    "\n",
    "# Libraries\n",
    "\n",
    "* A library is a collection of precompiled codes that can be used later on in a program for some specific well-defined operations. \n",
    "* These precompiled codes can be referred to as modules. Each module contains bundles of code that can be used repeatedly in different programs.\n",
    "* A library may also contain documentation, configuration data, message templates, classes, and values, etc.\n",
    "\n",
    "### Why are libraries important?\n",
    "* Using Libraries makes Python Programming simpler and convenient for the programmer. \n",
    "* One example would be through looping and iteration, as we don’t need to write the same code again and again for different programs. \n",
    "* Python libraries play a very vital role in fields of Machine Learning, Data Science, Data Visualization, etc.\n",
    "\n",
    "### A few libraries that simplify coding processes:\n",
    "* **Pillow** allows you to work with images.\n",
    "* **Tensor Flow** helps with data automation and monitors performance.\n",
    "* **Matplotlib** allows you to make 2D graphs and plots.\n",
    "\n",
    "The AP Exam Refrence Sheet itself is a library!\n",
    "\n",
    "## Hacks:\n",
    "Research two other Python Libraries NOT DISCUSSED DURING LESSON and make a markdown post, explaining their function and how it helps programmers code.\n",
    "\n",
    "### API’s\n",
    "* An Application Program Interface, or API, contains specific direction for how the procedures in a library behave and can be used. \n",
    "* An API acts as a gateway for the imported procedures from a library to interact with the rest of your code.\n",
    "\n",
    "### Activity: Walkthrough with NumPy\n",
    "* Install NumPy on VSCode:\n",
    "    1. Open New Terminal In VSCode:\n",
    "    2. pip3 install --upgrade pip\n",
    "    3. pip install numpy \n",
    " \n",
    "REMEMBER: When running library code cells use Python Interpreter Conda (Version 3.9.12)\n",
    " \n",
    "### Example of using NumPy for arrays:"
   ]
  },
  {
   "attachments": {},
   "cell_type": "markdown",
   "metadata": {},
   "source": [
    "# 2 more libraries:\n",
    "## Random: gives a random value for a selected data type\n",
    "## numpy: lets you use very cool mathematical functions "
   ]
  },
  {
   "cell_type": "code",
   "execution_count": 1,
   "metadata": {},
   "outputs": [
    {
     "name": "stdout",
     "output_type": "stream",
     "text": [
      "[[1 2 3]\n",
      " [4 5 6]\n",
      " [7 8 9]]\n"
     ]
    }
   ],
   "source": [
    "import numpy as np\n",
    "new_matrix = np.array([[1, 2, 3],[4, 5, 6],[7, 8, 9]])\n",
    " \n",
    "print (new_matrix)"
   ]
  },
  {
   "cell_type": "markdown",
   "metadata": {},
   "source": [
    "#### Example of using NumPy for derivatives:"
   ]
  },
  {
   "cell_type": "code",
   "execution_count": 3,
   "metadata": {},
   "outputs": [
    {
     "name": "stdout",
     "output_type": "stream",
     "text": [
      "Polynomial function, f(x):    2\n",
      "2 x + 1\n",
      "Derivative, f(x)'=  \n",
      "4 x\n",
      "When x=5  f(x)'= 20\n"
     ]
    }
   ],
   "source": [
    "import numpy as np\n",
    " \n",
    "# defining polynomial function\n",
    "var = np.poly1d([2, 0, 1])\n",
    "print(\"Polynomial function, f(x):\\n\", var)\n",
    " \n",
    "# calculating the derivative\n",
    "derivative = var.deriv()\n",
    "print(\"Derivative, f(x)'=\", derivative)\n",
    " \n",
    "# calculates the derivative of after\n",
    "# given value of x\n",
    "print(\"When x=5  f(x)'=\", derivative(5))"
   ]
  },
  {
   "attachments": {},
   "cell_type": "markdown",
   "metadata": {},
   "source": [
    "## Random Values\n",
    "\n",
    "* Random number generation (RNG) produces a random number (crazy right?)\n",
    "    - This means that a procedure with RNG can return different values even if the parameters (inputs) do not change\n",
    "* CollegeBoard uses <code class=\"coolCode\">RANDOM(A, B)</code>, to return an integer between integers <code class=\"coolCode\">A</code> and <code class=\"coolCode\">B</code>.\n",
    "    - RANDOM(1, 10) can output 1, 2, 3, 4, 5, 6, 7, 8, 9, or 10\n",
    "    - In Python, this would be <code class=\"coolCode\">random.randint(A, B)</code>, after importing Python's \"random\" library (<code class=\"coolCode\">import random</code>)\n",
    "    - JavaScript's works a little differently, with <code class=\"coolCode\">Math.random()</code> returning a value between 0 and 1.\n",
    "        - To match Python and CollegeBoard, you could make a procedure like [this](https://stackoverflow.com/a/7228322)\n",
    "\n",
    "#### CollegeBoard Example: What is the possible range of values for *answ3*\n"
   ]
  },
  {
   "cell_type": "markdown",
   "metadata": {},
   "source": [
    "#### Convert the following procedure to Python, then determine the range of outputs if n = 5.\n",
    "<pre>\n",
    "<font color=white>\n",
    "PROCEDURE Dice(n)\n",
    "\tsum ← 0\n",
    "\tREPEAT UNTIL n = 0\n",
    "\t\tsum ← sum + RANDOM(1, 6)\n",
    "\t\tn ← n - 1\n",
    "\tRETURN sum\n",
    "</font>\n",
    "</pre>\n"
   ]
  },
  {
   "cell_type": "code",
   "execution_count": 8,
   "metadata": {},
   "outputs": [
    {
     "ename": "TypeError",
     "evalue": "__init__() missing 1 required positional argument: 'c_or_r'",
     "output_type": "error",
     "traceback": [
      "\u001b[0;31m---------------------------------------------------------------------------\u001b[0m",
      "\u001b[0;31mTypeError\u001b[0m                                 Traceback (most recent call last)",
      "\u001b[1;32m/home/dashpen/vscode/blog/_notebooks/2022-11-30-randomvalues.ipynb Cell 10\u001b[0m in \u001b[0;36m<cell line: 10>\u001b[0;34m()\u001b[0m\n\u001b[1;32m      <a href='vscode-notebook-cell://wsl%2Bubuntu/home/dashpen/vscode/blog/_notebooks/2022-11-30-randomvalues.ipynb#X11sdnNjb2RlLXJlbW90ZQ%3D%3D?line=7'>8</a>\u001b[0m     \u001b[39mreturn\u001b[39;00m sun\n\u001b[1;32m      <a href='vscode-notebook-cell://wsl%2Bubuntu/home/dashpen/vscode/blog/_notebooks/2022-11-30-randomvalues.ipynb#X11sdnNjb2RlLXJlbW90ZQ%3D%3D?line=8'>9</a>\u001b[0m Dice(\u001b[39m5\u001b[39m) \u001b[39m# Will output a range of 5 to 30\u001b[39;00m\n\u001b[0;32m---> <a href='vscode-notebook-cell://wsl%2Bubuntu/home/dashpen/vscode/blog/_notebooks/2022-11-30-randomvalues.ipynb#X11sdnNjb2RlLXJlbW90ZQ%3D%3D?line=9'>10</a>\u001b[0m p \u001b[39m=\u001b[39m numpy\u001b[39m.\u001b[39;49mpoly1d()\n",
      "\u001b[0;31mTypeError\u001b[0m: __init__() missing 1 required positional argument: 'c_or_r'"
     ]
    }
   ],
   "source": [
    "import random # Fill in the blank\n",
    "\n",
    "def Dice(n):\n",
    "    sun = 0\n",
    "    while (n >= 0):\n",
    "        sun = sun + random.randint(1, 6)\n",
    "        n -= 1\n",
    "    return sun\n",
    "Dice(5) # Will output a range of 5 to 30"
   ]
  },
  {
   "cell_type": "markdown",
   "metadata": {},
   "source": [
    "## Homework\n",
    "1. Write a procedure that generates *n* random numbers, then sorts those numbers into lists of even and odd numbers (JS or Python, Python will be easier).\n",
    "\n",
    "2. Using NumPy and only coding in python cell, find the answer to the following questions:\n",
    "    a. What is the derivative of 2x^5 - 6x^2 + 24x?\n",
    "    b. What is the derivative of (13x^4 + 4x^2) / 2 when x = 9? \n",
    "\n",
    "3. Suppose you have a group of 10 dogs and 10 cats, and you want to create a random order for them. Show how random number generation could be used to create this random order."
   ]
  },
  {
   "cell_type": "code",
   "execution_count": 46,
   "metadata": {},
   "outputs": [
    {
     "name": "stdout",
     "output_type": "stream",
     "text": [
      "[16, 21, 25, 40, 44, 50, 51, 78, 89, 96]\n",
      "    4\n",
      "10 x - 12 x + 24\n",
      "    3\n",
      "26 x + 4 x\n",
      "18990.0\n",
      "bojangles in position 1\n",
      "amy in position 2\n",
      "azerbaijan in position 3\n",
      "bangladesh in position 4\n",
      "barrack obama in position 5\n",
      "bleh in position 6\n",
      "alamo in position 7\n",
      "bob in position 8\n",
      "allo in position 9\n",
      "attack in position 10\n",
      "bill clinton in position 11\n",
      "as in position 12\n",
      "aljazerra in position 13\n",
      "bjorn in position 14\n",
      "away in position 15\n",
      "a in position 16\n",
      "anarchy in position 17\n",
      "black in position 18\n",
      "bruh in position 19\n",
      "billy in position 20\n"
     ]
    }
   ],
   "source": [
    "import numpy\n",
    "import random\n",
    "\n",
    "def listMaker(n):\n",
    "    list = []\n",
    "    for each in range(n):\n",
    "        list.append(random.randint(1, 100))\n",
    "    list.sort()\n",
    "    return list\n",
    "print(listMaker(10))\n",
    "p = numpy.poly1d([2, 0, 0, -6, 24, 0])\n",
    "p2 = numpy.poly1d([13/2, 0, 2, 0, 0])\n",
    "\n",
    "pder = p.deriv()\n",
    "print(pder)\n",
    "\n",
    "p2der = p2.deriv()\n",
    "print(p2der)\n",
    "\n",
    "print(p2der(9))\n",
    "\n",
    "cats = {\n",
    "    \"1\" : \"amy\",\n",
    "    \"2\" : \"aljazerra\",\n",
    "    \"3\" : \"alamo\",\n",
    "    \"4\" : \"azerbaijan\",\n",
    "    \"5\" : \"allo\",\n",
    "    \"6\" : \"attack\",\n",
    "    \"7\" : \"anarchy\",\n",
    "    \"8\" : \"as\",\n",
    "    \"9\" : \"away\",\n",
    "    \"10\" : \"a\"\n",
    "}\n",
    "\n",
    "dogs = {\n",
    "    \"1\" : \"bob\",\n",
    "    \"2\" : \"billy\",\n",
    "    \"3\" : \"bleh\",\n",
    "    \"4\" : \"bojangles\",\n",
    "    \"5\" : \"bruh\",\n",
    "    \"6\" : \"barrack obama\",\n",
    "    \"7\" : \"bill clinton\",\n",
    "    \"8\" : \"black\",\n",
    "    \"9\" : \"bjorn\",\n",
    "    \"10\" : \"bangladesh\"\n",
    "}\n",
    "\n",
    "def randIntArray(n):\n",
    "    array = []\n",
    "    while (len(array) <= n - 1):\n",
    "        num = random.randint(1, n)\n",
    "        bad = False\n",
    "        for each in array:\n",
    "            if (num == each):\n",
    "                bad = True\n",
    "        if (bad == False):\n",
    "            array.append(num)\n",
    "\n",
    "    return array\n",
    "\n",
    "def randBoolArray(n):\n",
    "    array = randIntArray(n)\n",
    "    newArray = []\n",
    "    for each in array:\n",
    "        if(each > n/2):\n",
    "            newArray.append(True)\n",
    "        else:\n",
    "            newArray.append(False)\n",
    "    return newArray\n",
    "\n",
    "\n",
    "def randomOrder():\n",
    "    indexCat = randIntArray(10)\n",
    "    indexDog = randIntArray(10)\n",
    "    index = randBoolArray(20)\n",
    "    for each in range(20):\n",
    "        if(index[each]):\n",
    "            print(cats[str(indexCat[0])] + \" in position \" + str(each + 1))\n",
    "            indexCat.pop(0)\n",
    "        else:\n",
    "            print(dogs[str(indexDog[0])] + \" in position \" + str(each + 1))\n",
    "            indexDog.pop(0)\n",
    "\n",
    "randomOrder()\n",
    "# all of the names are unique and only 10 dogs and 10 cats are present\n",
    "        "
   ]
  },
  {
   "cell_type": "code",
   "execution_count": null,
   "metadata": {},
   "outputs": [],
   "source": []
  }
 ],
 "metadata": {
  "kernelspec": {
   "display_name": "base",
   "language": "python",
   "name": "python3"
  },
  "language_info": {
   "codemirror_mode": {
    "name": "ipython",
    "version": 3
   },
   "file_extension": ".py",
   "mimetype": "text/x-python",
   "name": "python",
   "nbconvert_exporter": "python",
   "pygments_lexer": "ipython3",
   "version": "3.9.12"
  },
  "orig_nbformat": 4,
  "vscode": {
   "interpreter": {
    "hash": "0324bdc6d0dda31d2e044164ff9618807e4511392db47dfcc9eb3e8251956324"
   }
  }
 },
 "nbformat": 4,
 "nbformat_minor": 2
}
