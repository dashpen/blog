{
 "cells": [
  {
   "attachments": {},
   "cell_type": "markdown",
   "metadata": {},
   "source": [
    "#  Unit 2.4a Using Programs with Data, SQLAlchemy\n",
    "> Using Programs with Data is focused on SQL and database actions.  Part A focuses on SQLAlchemy and an OOP programming style,\n",
    "- toc: true"
   ]
  },
  {
   "attachments": {},
   "cell_type": "markdown",
   "metadata": {},
   "source": [
    "# Database and SQLAlchemy\n",
    "> In this blog we will explore using programs with data, focused on Databases.  We will use SQLite Database to learn more about using Programs with Data.  ***Use Debugging through these examples to examine Objects created in Code***.\n",
    "\n",
    "- College Board talks about ideas like \n",
    "    - Program Usage. \"iterative and interactive way when processing information\"\n",
    "    - Managing Data.  \"classifying data are part of the process in using programs\", \"data files in a Table\"\n",
    "    - Insight \"insight and knowledge can be obtained from ...  digitally represented information\"\n",
    "    - Filter systems. 'tools for finding information and recognizing patterns\"\n",
    "    - Application. \"the preserve has two databases\", \"an employee wants to count the number of book\"\n",
    "\n",
    "- PBL, Databases, Iterative/OOP\n",
    "    - Iterative. Refers to a sequence of instructions or code being repeated until a specific end result is achieved\n",
    "    - OOP. A computer programming model that organizes software design around data, or objects, rather than functions and logic\n",
    "    - SQL. Structured Query Language, abbreviated as SQL, is a language used in programming, managing, and structuring data \n"
   ]
  },
  {
   "attachments": {},
   "cell_type": "markdown",
   "metadata": {},
   "source": [
    "## Imports and Flask Objects\n",
    "> Defines and key object creations\n",
    "\n",
    "- Comment on where you have observed these working?  Provide a defintion of purpose.\n",
    "    1. Flask app object\n",
    "        - is a python website useful for making apis\n",
    "    2. SQLAlchemy db object\n",
    "        - is a way of abstracting SQL to be used with python and flask\n"
   ]
  },
  {
   "cell_type": "code",
   "execution_count": 51,
   "metadata": {},
   "outputs": [],
   "source": [
    "\"\"\"\n",
    "These imports define the key objects\n",
    "\"\"\"\n",
    "\n",
    "from flask import Flask\n",
    "from flask_sqlalchemy import SQLAlchemy\n",
    "\n",
    "\"\"\"\n",
    "These object and definitions are used throughout the Jupyter Notebook.\n",
    "\"\"\"\n",
    "\n",
    "# Setup of key Flask object (app)\n",
    "app = Flask(__name__)\n",
    "# Setup SQLAlchemy object and properties for the database (db)\n",
    "database = 'sqlite:///sqlite.db'  # path and filename of database\n",
    "app.config['SQLALCHEMY_TRACK_MODIFICATIONS'] = False\n",
    "app.config['SQLALCHEMY_DATABASE_URI'] = database\n",
    "app.config['SECRET_KEY'] = 'SECRET_KEY'\n",
    "db = SQLAlchemy()\n",
    "\n",
    "\n",
    "# This belongs in place where it runs once per project\n",
    "db.init_app(app)\n"
   ]
  },
  {
   "attachments": {},
   "cell_type": "markdown",
   "metadata": {},
   "source": [
    "## Model Definition\n",
    "> Define columns, initialization, and CRUD methods for users table in sqlite.db\n",
    "\n",
    "- Comment on these items in the class, purpose and defintion.\n",
    "    - class User\n",
    "        - Defines the schema and methods accociated with users in the table (how you manipulate and get data)\n",
    "    - db.Model inheritance\n",
    "        - Lets the User class use the methods and structure of db.Model\n",
    "    - _init_ method\n",
    "        - Is the constructor for class User, let you set the instance variables such as id and username\n",
    "    - ```@property```, ```@<column>.setter```\n",
    "        - Defines getter and setter methods for class User (encapsulation)\n",
    "    - create, read, update, delete methods\n",
    "        - These are the methods for reading and manipulating the database and the data in that database."
   ]
  },
  {
   "cell_type": "code",
   "execution_count": 52,
   "metadata": {},
   "outputs": [],
   "source": [
    "\"\"\" database dependencies to support sqlite examples \"\"\"\n",
    "import datetime\n",
    "from datetime import datetime\n",
    "import json\n",
    "\n",
    "from sqlalchemy.exc import IntegrityError\n",
    "from werkzeug.security import generate_password_hash, check_password_hash\n",
    "\n",
    "\n",
    "''' Tutorial: https://www.sqlalchemy.org/library.html#tutorials, try to get into a Python shell and follow along '''\n",
    "\n",
    "# Define the User class to manage actions in the 'users' table\n",
    "# -- Object Relational Mapping (ORM) is the key concept of SQLAlchemy\n",
    "# -- a.) db.Model is like an inner layer of the onion in ORM\n",
    "# -- b.) User represents data we want to store, something that is built on db.Model\n",
    "# -- c.) SQLAlchemy ORM is layer on top of SQLAlchemy Core, then SQLAlchemy engine, SQL\n",
    "class ChessUsers(db.Model):\n",
    "    __tablename__ = 'chess_users'\n",
    "    \n",
    "    # Define the Users schema\n",
    "    uid = db.Column(db.Integer, primary_key=True)\n",
    "    name = db.Column(db.String(255), unique=True, nullable=False)\n",
    "    password = db.Column(db.String(255), unique=False, nullable=False)\n",
    "    dob = db.Column(db.String(255), unique = False, nullable=False)\n",
    "    games = db.Column(db.String(255), unique = False, nullable=False)\n",
    "    # Defines a relationship between User record and Notes table, one-to-many (one user to many notes)\n",
    "    # notes = db.relationship(\"Notes\", cascade='all, delete', backref='users', lazy=True)\n",
    "\n",
    "    # constructor of a User object, initializes of instance variables within object\n",
    "    def __init__(self, name='', uid=\"0\", password=\"null\", dob=\"11-11-1111\", games=\"\"):\n",
    "        self.uid = make_id()\n",
    "        self.name = name\n",
    "        self.dob = dob\n",
    "        self.games = \"\"\n",
    "        self.set_password(password)\n",
    "\n",
    "    # returns a string representation of object, similar to java toString()\n",
    "    def __repr__(self):\n",
    "        return \"Users(\" + str(self.uid) + \",\" + self.name + \",\" + str(self.dob) +  str(self.games) + \")\"\n",
    "\n",
    "    # CRUD create/add a new record to the table\n",
    "    # returns self or None on error\n",
    "    def create(self):\n",
    "        try:\n",
    "            # creates a person object from Users(db.Model) class, passes initializers\n",
    "            db.session.add(self)  # add prepares to persist person object to Users table\n",
    "            db.session.commit()  # SqlAlchemy \"unit of work pattern\" requires a manual commit\n",
    "            return self\n",
    "        except IntegrityError:\n",
    "            db.session.remove()\n",
    "            return None\n",
    "\n",
    "    # CRUD read converts self to dictionary\n",
    "    # returns dictionary\n",
    "    def read(self):\n",
    "        return {\n",
    "            \"uid\": self.uid,\n",
    "            \"name\": self.name,\n",
    "            \"password\": self.password,\n",
    "            \"dob\": self.dob,\n",
    "            \"games\": self.games\n",
    "        }\n",
    "\n",
    "    def read2(self):\n",
    "        return {\n",
    "            \"uid\": self.uid,\n",
    "            \"name\": self.name,\n",
    "            \"dob\": self.dob,\n",
    "        }\n",
    "\n",
    "    # CRUD update: updates users name, password, phone\n",
    "    # returns self\n",
    "    def update(self, name=\"\", uid=\"\", password=\"\", dob=\"\"):\n",
    "        \"\"\"only updates values with length\"\"\"\n",
    "        if len(name) > 0:\n",
    "            self.name = name\n",
    "        if len(uid) > 0:\n",
    "            self.uid = uid\n",
    "        if len(password) > 0:\n",
    "            self.set_password(password)\n",
    "        if len(dob) > 0:\n",
    "            self.dob = dob\n",
    "        db.session.commit()\n",
    "        return self\n",
    "\n",
    "    # CRUD delete: remove self\n",
    "    # None\n",
    "    def delete(self):\n",
    "        user = self.read()\n",
    "        db.session.delete(self)\n",
    "        db.session.commit()\n",
    "        return f\"deleted {user}\"\n",
    "\n",
    "    def deleteGame(self, date):\n",
    "        games = self.games.split('#')\n",
    "        games.pop(0)\n",
    "        for game in games:\n",
    "            gameStr = game.replace(\"\\'\", \"\\\"\")\n",
    "            thing = json.loads(gameStr)\n",
    "            if thing['date'] == date:\n",
    "                games.remove(game)\n",
    "        gameString = \"\"\n",
    "        for el in games:\n",
    "            gameString += \"#\" + str(el)\n",
    "        self.games = gameString\n",
    "        db.session.commit()\n",
    "        return gameString\n",
    "        \n",
    "\n",
    "\n",
    "    # set password method is used to create encrypted password\n",
    "    def set_password(self, password):\n",
    "        \"\"\"Create hashed password.\"\"\"\n",
    "        self.password = generate_password_hash(password, method='sha256')\n",
    "        db.session.commit()\n",
    "\n",
    "    # check password to check versus encrypted password\n",
    "    def is_password_match(self, password):\n",
    "        \"\"\"Check hashed password.\"\"\"\n",
    "        result = check_password_hash(self.password, password)\n",
    "        return result\n",
    "\n",
    "    # required for login_user, overrides id (login_user default) to implemented userID\n",
    "    def get_id(self):\n",
    "        return self.uid\n",
    "    \n",
    "    def get_name(self):\n",
    "        return self.name\n",
    "    \n",
    "    def get_games(self):\n",
    "        return self.games\n",
    "\n",
    "    def update_games(self, game):\n",
    "        self.games += \"#\" + str(game)\n",
    "        try:\n",
    "            db.session.commit()\n",
    "            return self\n",
    "        except IntegrityError:\n",
    "            db.session.remove()\n",
    "            return None\n",
    "\n",
    "def getUser(uid):\n",
    "    with app.app_context():\n",
    "        return ChessUsers.query.filter_by(uid=uid).first()\n",
    "    # users = ChessUsers.query.all()\n",
    "    # for user in users:\n",
    "    #     if(user.get_id() == uid):\n",
    "    #         return user\n",
    "\n",
    "def getName(name):\n",
    "    return ChessUsers.query.filter_by(name=name).first()\n",
    "    users = ChessUsers.query.all()\n",
    "    for user in users:\n",
    "        if(user.get_name() == name):\n",
    "            return user\n",
    "        \n",
    "def make_id():\n",
    "    users = ChessUsers.query.all()\n",
    "    uid = 0\n",
    "    for user in users:\n",
    "        if(user.get_id() > uid):\n",
    "            uid = user.get_id()\n",
    "    if (uid < 100):\n",
    "        return 100\n",
    "    return uid + 1\n",
    "\n",
    "def getGame(uid, date):\n",
    "    user = getUser(uid)\n",
    "    games = user.games.split('#')\n",
    "    for game in games:\n",
    "        if game.date == date:\n",
    "            return game"
   ]
  },
  {
   "attachments": {},
   "cell_type": "markdown",
   "metadata": {},
   "source": [
    "## Initial Data\n",
    "> Uses SQLALchemy db.create_all() to initialize rows into sqlite.db\n",
    "\n",
    "- Comment on how these work?\n",
    "    1. Create All Tables from db Object\n",
    "        - Uses the schema of Users to build a table with the necessary data\n",
    "    2. User Object Constructors\n",
    "        - Each u1, u2, etc are objects of class user which are created when they are initialized\n",
    "    3. Try / Except \n",
    "        - The Try/Except tries to add each object created above to the database and if it fails, doesn't add the object.\n"
   ]
  },
  {
   "cell_type": "code",
   "execution_count": 53,
   "metadata": {},
   "outputs": [
    {
     "name": "stderr",
     "output_type": "stream",
     "text": [
      "/tmp/ipykernel_399/4082043660.py:47: SAWarning: New instance <ChessUsers at 0x7f2aa5f91c10> with identity key (<class '__main__.ChessUsers'>, (100,), None) conflicts with persistent instance <ChessUsers at 0x7f2ac06eb160>\n",
      "  db.session.commit()  # SqlAlchemy \"unit of work pattern\" requires a manual commit\n"
     ]
    }
   ],
   "source": [
    "\"\"\"Database Creation and Testing \"\"\"\n",
    "\n",
    "\n",
    "# Builds working data for testing\n",
    "def createTestingData():\n",
    "    with app.app_context():\n",
    "        db.create_all()\n",
    "        u1 = ChessUsers(name='Toby', password=\"lmaobad\", uid=\"12\")\n",
    "        u2 = ChessUsers(name='Gene', password=\"WRizz\", uid=\"123\")\n",
    "        try:\n",
    "            '''add user/note data to table'''\n",
    "            u1.create()\n",
    "            u2.create()\n",
    "            #u5.create()\n",
    "            #u6.create()\n",
    "        except IntegrityError:\n",
    "            '''fails with bad or duplicate data'''\n",
    "            db.session.remove()\n",
    "            print(f\"Records exist, duplicate email, or error: {u1.uid}\")\n",
    "                \n",
    "createTestingData()"
   ]
  },
  {
   "attachments": {},
   "cell_type": "markdown",
   "metadata": {},
   "source": [
    "## Check for given Credentials in users table in sqlite.db\n",
    "> Use of ORM (object relational model) Query object and custom methods to identify user to credentials uid and password\n",
    "\n",
    "- Comment on purpose of following\n",
    "    1. User.query.filter_by\n",
    "        - returns a user object from db based on id\n",
    "    2. user.password\n",
    "        - password attribute of objeect user"
   ]
  },
  {
   "cell_type": "code",
   "execution_count": 54,
   "metadata": {},
   "outputs": [],
   "source": [
    "# SQLAlchemy extracts single user from database matching User ID\n",
    "def find_by_uid(uid):\n",
    "    with app.app_context():\n",
    "        user = ChessUsers.query.filter_by(uid=uid).first()\n",
    "    return user # returns user object\n",
    "\n",
    "# Check credentials by finding user and verify password\n",
    "def check_credentials(uid, password):\n",
    "    # query email and return user record\n",
    "    user = find_by_uid(uid)\n",
    "    if user == None:\n",
    "        return False\n",
    "    if (user.is_password(password)):\n",
    "        return True\n",
    "    return False\n",
    "        \n",
    "# check_credentials(\"indi\", \"123qwerty\")\n",
    "# print(find_by_uid(\"indi\"))"
   ]
  },
  {
   "attachments": {},
   "cell_type": "markdown",
   "metadata": {},
   "source": [
    "## Update password in db"
   ]
  },
  {
   "cell_type": "code",
   "execution_count": 55,
   "metadata": {},
   "outputs": [],
   "source": [
    "def changePassword(name, password, newPassword):\n",
    "    with app.app_context():\n",
    "        user = getName(name)\n",
    "        if user == None:\n",
    "            return\n",
    "        if (user.is_password_match(password)):\n",
    "            user.set_password(newPassword)\n",
    "            print(user.read())\n",
    "            return user.is_password_match(newPassword)\n",
    "        return \"failed\"\n",
    "changePassword(name=\"dash\", password=\"password\", newPassword=\"password\")"
   ]
  },
  {
   "attachments": {},
   "cell_type": "markdown",
   "metadata": {},
   "source": [
    "## Create a new User in table in Sqlite.db\n",
    "> Uses SQLALchemy and custom user.create() method to add row.\n",
    "\n",
    "- Comment on purpose of following\n",
    "    1. user.find_by_uid() and try/except\n",
    "        - returns a user object from the db based on given id\n",
    "    2. user = User(...)\n",
    "        - Creates a new user object using class User\n",
    "    3. user.dob and try/except\n",
    "        - user.dob is the dob attribute of the created user object\n",
    "    4. user.create() and try/except\n",
    "        - user.create() runs the create function on the user object, adding the data in the object to the database"
   ]
  },
  {
   "cell_type": "code",
   "execution_count": 56,
   "metadata": {},
   "outputs": [
    {
     "name": "stdout",
     "output_type": "stream",
     "text": [
      "Created\n",
      " {'uid': 101, 'name': 'dash', 'password': 'sha256$BGL7dNOC0ATXlDIf$cde4267aba7c992d9e7940d8228fa18d45c31ba277d61913607db44310b2af13', 'dob': '05050050', 'games': ''}\n"
     ]
    }
   ],
   "source": [
    "# Inputs, Try/Except, and SQLAlchemy work together to build a valid database object\n",
    "def create():\n",
    "    # optimize user time to see if uid exists\n",
    "    uid = input(\"Enter your user id:\")\n",
    "    user = getUser(uid)\n",
    "    try:\n",
    "        print(\"Found\\n\", user.read())\n",
    "        return\n",
    "    except:\n",
    "        pass # keep going\n",
    "    \n",
    "    # request value that ensure creating valid object\n",
    "    name = input(\"Enter your name:\")\n",
    "    password = input(\"Enter your password\")\n",
    "    dob = input(\"Enter your dob\")\n",
    "    \n",
    "    # Initialize User object before date       \n",
    "    # write object to database\n",
    "    with app.app_context():\n",
    "        user = ChessUsers(name=name,  \n",
    "            password=password,\n",
    "            dob=dob\n",
    "            )    \n",
    "        try:\n",
    "            object = user.create()\n",
    "            print(\"Created\\n\", object.read())\n",
    "        except:  # error raised if object not created\n",
    "            print(\"Unknown error uid {uid}\")\n",
    "        \n",
    "create()"
   ]
  },
  {
   "attachments": {},
   "cell_type": "markdown",
   "metadata": {},
   "source": [
    "## Reading users table in sqlite.db\n",
    "> Uses SQLALchemy query.all method to read data\n",
    "\n",
    "- Comment on purpose of following\n",
    "    1. User.query.all\n",
    "    Returns a list of all of the user objects in the db\n",
    "    2. json_ready assignment, google List Comprehension\n",
    "    makes a json of all of the users in the table"
   ]
  },
  {
   "cell_type": "code",
   "execution_count": 57,
   "metadata": {},
   "outputs": [
    {
     "data": {
      "text/plain": [
       "[{'uid': 100,\n",
       "  'name': 'Toby',\n",
       "  'password': 'sha256$zqq8WeeStZoA4OHQ$ebc0eb41c502db9cb89c4ad867b75d856113e065cd3404a9e3ab2ef6a26eb737',\n",
       "  'dob': '11-11-1111',\n",
       "  'games': ''},\n",
       " {'uid': 101,\n",
       "  'name': 'dash',\n",
       "  'password': 'sha256$BGL7dNOC0ATXlDIf$cde4267aba7c992d9e7940d8228fa18d45c31ba277d61913607db44310b2af13',\n",
       "  'dob': '05050050',\n",
       "  'games': ''}]"
      ]
     },
     "execution_count": 57,
     "metadata": {},
     "output_type": "execute_result"
    }
   ],
   "source": [
    "\n",
    "# SQLAlchemy extracts all users from database, turns each user into JSON\n",
    "def read():\n",
    "    with app.app_context():\n",
    "        table = ChessUsers.query.all()\n",
    "    json_ready = [user.read() for user in table] # \"List Comprehensions\", for each user add user.read() to list\n",
    "    return json_ready\n",
    "\n",
    "read()"
   ]
  },
  {
   "attachments": {},
   "cell_type": "markdown",
   "metadata": {},
   "source": [
    "# Hacks\n",
    "- Add this Blog to you own Blogging site.  In the Blog add notes and observations on each code cell.\n",
    "- Change blog to your own database.\n",
    "- Add additional CRUD\n",
    "    - Add Update functionality to this blog.\n",
    "    - Add Delete functionality to this blog."
   ]
  },
  {
   "attachments": {},
   "cell_type": "markdown",
   "metadata": {},
   "source": [
    "## Delete Functionality"
   ]
  },
  {
   "cell_type": "code",
   "execution_count": 58,
   "metadata": {},
   "outputs": [
    {
     "data": {
      "text/plain": [
       "[{'uid': 100,\n",
       "  'name': 'Toby',\n",
       "  'password': 'sha256$zqq8WeeStZoA4OHQ$ebc0eb41c502db9cb89c4ad867b75d856113e065cd3404a9e3ab2ef6a26eb737',\n",
       "  'dob': '11-11-1111',\n",
       "  'games': ''},\n",
       " {'uid': 101,\n",
       "  'name': 'dash',\n",
       "  'password': 'sha256$BGL7dNOC0ATXlDIf$cde4267aba7c992d9e7940d8228fa18d45c31ba277d61913607db44310b2af13',\n",
       "  'dob': '05050050',\n",
       "  'games': ''}]"
      ]
     },
     "execution_count": 58,
     "metadata": {},
     "output_type": "execute_result"
    }
   ],
   "source": [
    "read() #read db before delete"
   ]
  },
  {
   "cell_type": "code",
   "execution_count": 59,
   "metadata": {},
   "outputs": [],
   "source": [
    "def deleteUser(uid):\n",
    "    with app.app_context():\n",
    "        user = getUser(uid)\n",
    "        return user.delete()\n",
    "# deleteUser(103)"
   ]
  },
  {
   "cell_type": "code",
   "execution_count": 60,
   "metadata": {},
   "outputs": [
    {
     "data": {
      "text/plain": [
       "[{'uid': 100,\n",
       "  'name': 'Toby',\n",
       "  'password': 'sha256$zqq8WeeStZoA4OHQ$ebc0eb41c502db9cb89c4ad867b75d856113e065cd3404a9e3ab2ef6a26eb737',\n",
       "  'dob': '11-11-1111',\n",
       "  'games': ''},\n",
       " {'uid': 101,\n",
       "  'name': 'dash',\n",
       "  'password': 'sha256$BGL7dNOC0ATXlDIf$cde4267aba7c992d9e7940d8228fa18d45c31ba277d61913607db44310b2af13',\n",
       "  'dob': '05050050',\n",
       "  'games': ''}]"
      ]
     },
     "execution_count": 60,
     "metadata": {},
     "output_type": "execute_result"
    }
   ],
   "source": [
    "read() #read db after delete"
   ]
  }
 ],
 "metadata": {
  "kernelspec": {
   "display_name": "base",
   "language": "python",
   "name": "python3"
  },
  "language_info": {
   "codemirror_mode": {
    "name": "ipython",
    "version": 3
   },
   "file_extension": ".py",
   "mimetype": "text/x-python",
   "name": "python",
   "nbconvert_exporter": "python",
   "pygments_lexer": "ipython3",
   "version": "3.9.12"
  },
  "orig_nbformat": 4,
  "vscode": {
   "interpreter": {
    "hash": "8b82d5009c68ba5675978267e2b13a671f2a7143d61273c5a3813c97e0b2493d"
   }
  }
 },
 "nbformat": 4,
 "nbformat_minor": 2
}
