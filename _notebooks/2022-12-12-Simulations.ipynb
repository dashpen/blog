{
 "cells": [
  {
   "attachments": {},
   "cell_type": "markdown",
   "metadata": {},
   "source": [
    "{% include lessonTable.html %}"
   ]
  },
  {
   "attachments": {},
   "cell_type": "markdown",
   "metadata": {},
   "source": [
    "# 3.16 Lesson\n",
    "> Lesson about simulations and what they're used for \n",
    "\n",
    "- layout: default\n",
    "- toc: true\n",
    "- badges: false\n",
    "- comments: true\n",
    "- categories: [lesson]"
   ]
  },
  {
   "attachments": {},
   "cell_type": "markdown",
   "metadata": {},
   "source": [
    "# First Order of Business: Get your notebook \n",
    "\n",
    "- Open a terminal in vscode, run command: cd _notebooks, type 'wget' and paste this link into said terminal and run it \n",
    "\n",
    "- Take notes wherever you please, but you will be graded on participating "
   ]
  },
  {
   "attachments": {},
   "cell_type": "markdown",
   "metadata": {},
   "source": [
    "# So, what is a simulation anyway? \n",
    "\n",
    "- A simulation is a tested scenario used for viewing results/outputs to prepare for them in real world situations \n",
    "\n",
    "- These can be used for games like dice rolling, spinners, etc \n",
    "\n",
    "- These can be used for practical things such as building structures, testing car crashes, and other things before engaging in them in the real world \n",
    "\n",
    "- These simulations can have the option of obeying real world physics (Gravity, collision) or they can go against these norms since this is a fictitious scenario, and couldn't happen in real life"
   ]
  },
  {
   "attachments": {},
   "cell_type": "markdown",
   "metadata": {},
   "source": [
    "# Big Question \n",
    "\n",
    "- Which of the following simulations could be the LEAST useful? \n",
    "\n",
    "- A retailer trying to identify which products sold the most \n",
    "- A restaurant determining the efficiency of robots \n",
    "- An insurance company studying the rain impact of cars \n",
    "- A sports bike company studying design changes to their new bike design \n",
    "\n",
    "\n",
    "\n",
    "- If you guessed a bike company, you're wrong, because the retail simulation was the right answer. Simulating robots in food service, sudying rain impact on vehicles, and new bike design can contribute a lot more to society in comparison to seeing what products sell more than others. \n"
   ]
  },
  {
   "attachments": {},
   "cell_type": "markdown",
   "metadata": {},
   "source": [
    "# Next Big Question \n",
    "\n",
    "If you were making a simulation for making a new train station, which of the following would be true about this simulation? \n",
    "\n",
    "- It could reveal potential problems/safety issues before construction starts \n",
    "- It cannot be used to test the train station in different weather \n",
    "- Simulation will add high costs to projects \n",
    "- Simulation is not needed because this train station already exists  \n",
    "\n",
    "\n",
    "\n",
    "\n",
    "- Potential Saftey was the right answer, because you need somewhere to test the safety and ethicness of what you're about to do before you start building it. Otherwise, let's just say you'll have a special plaque for FBI's Most Wanted\n"
   ]
  },
  {
   "attachments": {},
   "cell_type": "markdown",
   "metadata": {},
   "source": [
    "# Simulation 1: \n",
    "\n",
    "Both programs below do the same thing. Given a height and a weight, they calculate how long it will take for a object to fall to the ground in a vacuum subjected to normal Earth levels of gravity. \n",
    "\n",
    "However, the second one is a simulation. It calculates the distance the object has fallen every 0.1 seconds. This is useful for if you wanted a visual representation of a falling object, which pure math can't do as smoothly. "
   ]
  },
  {
   "cell_type": "code",
   "execution_count": 3,
   "metadata": {},
   "outputs": [
    {
     "name": "stdout",
     "output_type": "stream",
     "text": [
      "It will take 1.5649215928719031 seconds for an object that weighs 13 pounds to fall  12.0 meters in a vacuum\n"
     ]
    }
   ],
   "source": [
    "height = float(input(\"height in meters?\"))\n",
    "\n",
    "weight = input(\"weight in pounds?\")\n",
    "\n",
    "stuff = (2 * (height / 9.8))**(1/2)\n",
    "\n",
    "print(\"It will take\", stuff,\"seconds for an object that weighs\",weight,\"pounds\",\"to fall \",height,\"meters in a vacuum\")"
   ]
  },
  {
   "cell_type": "code",
   "execution_count": 4,
   "metadata": {},
   "outputs": [
    {
     "name": "stdout",
     "output_type": "stream",
     "text": [
      "1.6000000000000003\n",
      "12.544000000000006\n"
     ]
    }
   ],
   "source": [
    "t = 0\n",
    "g = 0\n",
    "d = 0\n",
    "while True:\n",
    "    t = t + 0.1\n",
    "    d = 9.8 / 2 * (t**2)\n",
    "    if d >= height:\n",
    "        break\n",
    "    #print(d) # if you want to print the distance every time it calculates it. Too long to output to a terminal, but this could be useful to display graphically. \n",
    "    #print(t)\n",
    "\n",
    "print(t)\n",
    "print(d)"
   ]
  },
  {
   "attachments": {},
   "cell_type": "markdown",
   "metadata": {},
   "source": [
    "# Simulation 2: \n",
    "\n",
    "- This simulation is made in order to simulate movement on a 2d plane vs a 3d plane.  \n",
    "\n",
    "- How it works: we have multiple variables, if statements and equations under a while command in order to randomy generate steps on a 2d plane. Once it reaches the set destination, it will say that the man made it home after x amount of steps. \n",
    "\n",
    "- For the 3D plane, it takes a lot longer due to how big and open the 3d environment is, so there are more if statements in the 3d plane \n",
    "\n",
    "(explain further)\n",
    "\n"
   ]
  },
  {
   "cell_type": "code",
   "execution_count": 5,
   "metadata": {},
   "outputs": [
    {
     "name": "stdout",
     "output_type": "stream",
     "text": [
      "The Man Has Made It Home After  16 Turns\n",
      "( 364 -156 )\n",
      "( 666 294 )\n",
      "( 1154 564 )\n",
      "( 529 1557 )\n",
      "( 444 1782 )\n",
      "( 1596 834 )\n",
      "( 1214 352 )\n",
      "( 47 951 )\n",
      "( -122 536 )\n"
     ]
    },
    {
     "ename": "KeyboardInterrupt",
     "evalue": "",
     "output_type": "error",
     "traceback": [
      "\u001b[0;31m---------------------------------------------------------------------------\u001b[0m",
      "\u001b[0;31mKeyboardInterrupt\u001b[0m                         Traceback (most recent call last)",
      "\u001b[1;32m/home/dashpen/vscode/blog/_notebooks/2022-12-12-Simulations.ipynb Cell 10\u001b[0m in \u001b[0;36m<cell line: 9>\u001b[0;34m()\u001b[0m\n\u001b[1;32m     <a href='vscode-notebook-cell://wsl%2Bubuntu/home/dashpen/vscode/blog/_notebooks/2022-12-12-Simulations.ipynb#X12sdnNjb2RlLXJlbW90ZQ%3D%3D?line=12'>13</a>\u001b[0m \u001b[39mif\u001b[39;00m step \u001b[39m==\u001b[39m \u001b[39m1\u001b[39m:\n\u001b[1;32m     <a href='vscode-notebook-cell://wsl%2Bubuntu/home/dashpen/vscode/blog/_notebooks/2022-12-12-Simulations.ipynb#X12sdnNjb2RlLXJlbW90ZQ%3D%3D?line=13'>14</a>\u001b[0m     x \u001b[39m=\u001b[39m x\u001b[39m-\u001b[39m\u001b[39m1\u001b[39m\n\u001b[0;32m---> <a href='vscode-notebook-cell://wsl%2Bubuntu/home/dashpen/vscode/blog/_notebooks/2022-12-12-Simulations.ipynb#X12sdnNjb2RlLXJlbW90ZQ%3D%3D?line=14'>15</a>\u001b[0m \u001b[39mif\u001b[39;00m step \u001b[39m==\u001b[39m \u001b[39m2\u001b[39m:\n\u001b[1;32m     <a href='vscode-notebook-cell://wsl%2Bubuntu/home/dashpen/vscode/blog/_notebooks/2022-12-12-Simulations.ipynb#X12sdnNjb2RlLXJlbW90ZQ%3D%3D?line=15'>16</a>\u001b[0m     y \u001b[39m=\u001b[39m y\u001b[39m+\u001b[39m\u001b[39m1\u001b[39m\n\u001b[1;32m     <a href='vscode-notebook-cell://wsl%2Bubuntu/home/dashpen/vscode/blog/_notebooks/2022-12-12-Simulations.ipynb#X12sdnNjb2RlLXJlbW90ZQ%3D%3D?line=16'>17</a>\u001b[0m \u001b[39mif\u001b[39;00m step \u001b[39m==\u001b[39m \u001b[39m3\u001b[39m:\n",
      "\u001b[0;31mKeyboardInterrupt\u001b[0m: "
     ]
    }
   ],
   "source": [
    "import random\n",
    "x = 0\n",
    "y = 0\n",
    "nights = 0\n",
    "turn = 0\n",
    "stopped = 0\n",
    "turns = []\n",
    "\n",
    "while (nights < 100):\n",
    "    step = random.randrange(4)\n",
    "    if step == 0:\n",
    "        x = x+1\n",
    "    if step == 1:\n",
    "        x = x-1\n",
    "    if step == 2:\n",
    "        y = y+1\n",
    "    if step == 3:\n",
    "        y = y-1\n",
    "\n",
    "    turn = turn + 1\n",
    "\n",
    "    if x == 0 and y == 0:\n",
    "        nights = nights + 1\n",
    "        print(\"The Man Has Made It Home After \", turn, \"Turns\")\n",
    "        turns.append(turn)\n",
    "        turn = 0\n",
    "    if turn/1000 % 1000 == 0 and x + y != 0:\n",
    "        print(\"(\", x,y, \")\")\n",
    "    if (turn > 10000000):\n",
    "        stopped = stopped + 1\n",
    "        turn = 0\n",
    "        x = 0\n",
    "        y = 0\n",
    "        nights = nights + 1\n",
    "        print(\"Caped\")\n",
    "\n",
    "average = sum(turns) / len(turns)\n",
    "print(\"Avaerage\", average, \"Ones that when't too long \", stopped)"
   ]
  },
  {
   "cell_type": "code",
   "execution_count": null,
   "metadata": {},
   "outputs": [],
   "source": [
    "import random\n",
    "x = 0\n",
    "y = 0\n",
    "z = 0\n",
    "nights = 0\n",
    "turn = 0\n",
    "stopped = 0\n",
    "turns = []\n",
    "\n",
    "while (nights < 100):\n",
    "    #rando movement\n",
    "    step = random.randrange(6)\n",
    "    if step == 0:\n",
    "        x = x+1\n",
    "    if step == 1:\n",
    "        x = x-1\n",
    "    if step == 2:\n",
    "        y = y+1\n",
    "    if step == 3:\n",
    "        y = y-1\n",
    "    if step == 4:\n",
    "        z = z+1\n",
    "    if step == 5:\n",
    "        z = z-1\n",
    "    #Turn counter\n",
    "    turn = turn + 1\n",
    "    #Goal check\n",
    "    if x == 0 and y == 0 and z == 0:\n",
    "        nights = nights + 1\n",
    "        print(\"The Bird Has Made It Home After \", turn, \"Turns\")\n",
    "        turns.append(turn)\n",
    "        turn = 0\n",
    "    if turn/1000 % 1000 == 0 and x + y + z != 0:\n",
    "        print(\"(\", x,y, \") \",\"| \", z)\n",
    "    #Too long Stoper\n",
    "    if (turn > 10000000):\n",
    "        stopped = stopped + 1\n",
    "        turn = 0\n",
    "        x = 0\n",
    "        y = 0\n",
    "        z = 0\n",
    "        nights = nights + 1\n",
    "        print(\"Caped\")\n",
    "\n",
    "average = sum(turns) / len(turns)\n",
    "print(\"Avaerage\", average,\"Ones that when't too long \", stopped)"
   ]
  },
  {
   "attachments": {},
   "cell_type": "markdown",
   "metadata": {},
   "source": [
    "# Simulations in the wild\n",
    "\n",
    "Simulations are used extremely frequently in real life applications. One of the most common examples of simulations are video games. A games physics engine can accurately simulate objects colliding \n",
    "\n",
    "Another example is Blender, the software used in 3d animations class, here at Del Norte. Blender is made up of many small simulations, but one big one it uses is simulating the way light bounces off of and interacts with objects. "
   ]
  },
  {
   "attachments": {},
   "cell_type": "markdown",
   "metadata": {},
   "source": [
    "# HW !!!\n",
    "\n",
    "Create a simulation. It can be anything, just has to simulate something.\n",
    "\n",
    "Some ideas:\n",
    "\n",
    "- Two objects colliding\n",
    "- Gravity on other planets\n",
    "\n",
    "AND\n",
    "\n",
    "Find an example of a simulation in a software/game you use, screenshot, and explain how it is a simulation"
   ]
  },
  {
   "cell_type": "markdown",
   "metadata": {},
   "source": []
  },
  {
   "cell_type": "code",
   "execution_count": 3,
   "metadata": {},
   "outputs": [
    {
     "name": "stdout",
     "output_type": "stream",
     "text": [
      "dy: 4.951 dx: 8.660 time: 0.1 Vfy: 49.01\n",
      "dy: 9.804 dx: 17.32 time: 0.2 Vfy: 48.03\n",
      "dy: 14.55 dx: 25.98 time: 0.3 Vfy: 47.05\n",
      "dy: 19.21 dx: 34.64 time: 0.4 Vfy: 46.07\n",
      "dy: 23.77 dx: 43.30 time: 0.5 Vfy: 45.09\n",
      "dy: 28.23 dx: 51.96 time: 0.6 Vfy: 44.11\n",
      "dy: 32.59 dx: 60.62 time: 0.7 Vfy: 43.13\n",
      "dy: 36.86 dx: 69.28 time: 0.7 Vfy: 42.16\n",
      "dy: 41.03 dx: 77.94 time: 0.8 Vfy: 41.17\n",
      "dy: 45.09 dx: 86.60 time: 0.9 Vfy: 40.19\n",
      "dy: 49.07 dx: 95.26 time: 1.0 Vfy: 39.21\n",
      "dy: 52.94 dx: 103.9 time: 1.2 Vfy: 38.23\n",
      "dy: 56.71 dx: 112.5 time: 1.3 Vfy: 37.25\n",
      "dy: 60.39 dx: 121.2 time: 1.4 Vfy: 36.27\n",
      "dy: 63.97 dx: 129.9 time: 1.5 Vfy: 35.29\n",
      "dy: 67.45 dx: 138.5 time: 1.6 Vfy: 34.31\n",
      "dy: 70.83 dx: 147.2 time: 1.7 Vfy: 33.33\n",
      "dy: 74.12 dx: 155.8 time: 1.8 Vfy: 32.35\n",
      "dy: 77.31 dx: 164.5 time: 1.9 Vfy: 31.37\n",
      "dy: 80.4 dx: 173.2 time: 2.0 Vfy: 30.39\n",
      "dy: 83.39 dx: 181.8 time: 2.1 Vfy: 29.41\n",
      "dy: 86.28 dx: 190.5 time: 2.2 Vfy: 28.43\n",
      "dy: 89.07 dx: 199.1 time: 2.3 Vfy: 27.45\n",
      "dy: 91.77 dx: 207.8 time: 2.4 Vfy: 26.47\n",
      "dy: 94.37 dx: 216.5 time: 2.5 Vfy: 25.49\n",
      "dy: 96.87 dx: 225.1 time: 2.6 Vfy: 24.51\n",
      "dy: 99.27 dx: 233.8 time: 2.7 Vfy: 23.53\n",
      "dy: 101.5 dx: 242.4 time: 2.8 Vfy: 22.55\n",
      "dy: 103.7 dx: 251.1 time: 2.9 Vfy: 21.57\n",
      "dy: 105.9 dx: 259.8 time: 3.0 Vfy: 20.59\n",
      "dy: 107.9 dx: 268.4 time: 3.1 Vfy: 19.61\n",
      "dy: 109.8 dx: 277.1 time: 3.2 Vfy: 18.63\n",
      "dy: 111.6 dx: 285.7 time: 3.3 Vfy: 17.65\n",
      "dy: 113.3 dx: 294.4 time: 3.4 Vfy: 16.67\n",
      "dy: 114.9 dx: 303.1 time: 3.5 Vfy: 15.69\n",
      "dy: 116.4 dx: 311.7 time: 3.6 Vfy: 14.71\n",
      "dy: 117.9 dx: 320.4 time: 3.7 Vfy: 13.73\n",
      "dy: 119.2 dx: 329.0 time: 3.8 Vfy: 12.75\n",
      "dy: 120.4 dx: 337.7 time: 3.9 Vfy: 11.77\n",
      "dy: 121.5 dx: 346.4 time: 4.0 Vfy: 10.79\n",
      "dy: 122.6 dx: 355.0 time: 4.1 Vfy: 9.819\n",
      "dy: 123.5 dx: 363.7 time: 4.2 Vfy: 8.839\n",
      "dy: 124.3 dx: 372.3 time: 4.3 Vfy: 7.859\n",
      "dy: 125.1 dx: 381.0 time: 4.4 Vfy: 6.879\n",
      "dy: 125.7 dx: 389.7 time: 4.5 Vfy: 5.899\n",
      "dy: 126.3 dx: 398.3 time: 4.6 Vfy: 4.919\n",
      "dy: 126.7 dx: 407.0 time: 4.6 Vfy: 3.939\n",
      "dy: 127.1 dx: 415.6 time: 4.7 Vfy: 2.960\n",
      "dy: 127.3 dx: 424.3 time: 4.8 Vfy: 1.980\n",
      "dy: 127.4 dx: 433.0 time: 4.9 Vfy: 1.000\n",
      "dy: 127.5 dx: 441.6 time: 5.0 Vfy: 0.020\n",
      "dy: 127.5 dx: 450.3 time: 5.1 Vfy: -0.95\n",
      "dy: 127.3 dx: 458.9 time: 5.2 Vfy: -1.93\n",
      "dy: 127.1 dx: 467.6 time: 5.3 Vfy: -2.91\n",
      "dy: 126.7 dx: 476.3 time: 5.4 Vfy: -3.89\n",
      "dy: 126.3 dx: 484.9 time: 5.5 Vfy: -4.87\n",
      "dy: 125.7 dx: 493.6 time: 5.6 Vfy: -5.85\n",
      "dy: 125.1 dx: 502.2 time: 5.7 Vfy: -6.83\n",
      "dy: 124.4 dx: 510.9 time: 5.8 Vfy: -7.81\n",
      "dy: 123.6 dx: 519.6 time: 5.9 Vfy: -8.79\n",
      "dy: 122.6 dx: 528.2 time: 6.0 Vfy: -9.77\n",
      "dy: 121.6 dx: 536.9 time: 6.1 Vfy: -10.7\n",
      "dy: 120.5 dx: 545.5 time: 6.2 Vfy: -11.7\n",
      "dy: 119.2 dx: 554.2 time: 6.3 Vfy: -12.7\n",
      "dy: 117.9 dx: 562.9 time: 6.4 Vfy: -13.6\n",
      "dy: 116.5 dx: 571.5 time: 6.5 Vfy: -14.6\n",
      "dy: 115.0 dx: 580.2 time: 6.6 Vfy: -15.6\n",
      "dy: 113.4 dx: 588.8 time: 6.7 Vfy: -16.6\n",
      "dy: 111.7 dx: 597.5 time: 6.8 Vfy: -17.6\n",
      "dy: 109.9 dx: 606.2 time: 6.9 Vfy: -18.5\n",
      "dy: 107.9 dx: 614.8 time: 7.0 Vfy: -19.5\n",
      "dy: 105.9 dx: 623.5 time: 7.1 Vfy: -20.5\n",
      "dy: 103.8 dx: 632.1 time: 7.2 Vfy: -21.5\n",
      "dy: 101.6 dx: 640.8 time: 7.3 Vfy: -22.5\n",
      "dy: 99.37 dx: 649.5 time: 7.4 Vfy: -23.4\n",
      "dy: 96.97 dx: 658.1 time: 7.5 Vfy: -24.4\n",
      "dy: 94.47 dx: 666.8 time: 7.6 Vfy: -25.4\n",
      "dy: 91.88 dx: 675.4 time: 7.7 Vfy: -26.4\n",
      "dy: 89.19 dx: 684.1 time: 7.8 Vfy: -27.4\n",
      "dy: 86.40 dx: 692.8 time: 7.9 Vfy: -28.3\n",
      "dy: 83.51 dx: 701.4 time: 8.0 Vfy: -29.3\n",
      "dy: 80.52 dx: 710.1 time: 8.1 Vfy: -30.3\n",
      "dy: 77.43 dx: 718.8 time: 8.2 Vfy: -31.3\n",
      "dy: 74.25 dx: 727.4 time: 8.3 Vfy: -32.3\n",
      "dy: 70.97 dx: 736.1 time: 8.4 Vfy: -33.2\n",
      "dy: 67.59 dx: 744.7 time: 8.5 Vfy: -34.2\n",
      "dy: 64.11 dx: 753.4 time: 8.6 Vfy: -35.2\n",
      "dy: 60.54 dx: 762.1 time: 8.7 Vfy: -36.2\n",
      "dy: 56.87 dx: 770.7 time: 8.8 Vfy: -37.2\n",
      "dy: 53.10 dx: 779.4 time: 8.9 Vfy: -38.1\n",
      "dy: 49.23 dx: 788.0 time: 9.0 Vfy: -39.1\n",
      "dy: 45.26 dx: 796.7 time: 9.1 Vfy: -40.1\n",
      "dy: 41.19 dx: 805.4 time: 9.2 Vfy: -41.1\n",
      "dy: 37.03 dx: 814.0 time: 9.3 Vfy: -42.1\n",
      "dy: 32.77 dx: 822.7 time: 9.4 Vfy: -43.0\n",
      "dy: 28.41 dx: 831.3 time: 9.5 Vfy: -44.0\n",
      "dy: 23.95 dx: 840.0 time: 9.6 Vfy: -45.0\n",
      "dy: 19.40 dx: 848.7 time: 9.7 Vfy: -46.0\n",
      "dy: 14.75 dx: 857.3 time: 9.8 Vfy: -47.0\n",
      "dy: 10.00 dx: 866.0 time: 9.9 Vfy: -47.9\n",
      "dy: 5.151 dx: 874.6 time: 10. Vfy: -48.9\n",
      "dy: 0.204 dx: 883.3 time: 10. Vfy: -49.9\n",
      "dy: -4.84 dx: 892.0 time: 10. Vfy: -50.9\n",
      "dy: -9.98 dx: 900.6 time: 10. Vfy: -51.9\n"
     ]
    }
   ],
   "source": [
    "import math\n",
    "#projectile motion\n",
    "speed = int(input(\"what speed?\"))\n",
    "angle = int(input(\"What angle?\"))\n",
    "height = int(input(\"what height?\"))\n",
    "\n",
    "angle *= math.pi/180\n",
    "\n",
    "Vix = math.cos(angle) * speed\n",
    "Viy = math.sin(angle) * speed\n",
    "\n",
    "t = 0\n",
    "while True:\n",
    "    t += 0.1\n",
    "    dy = Viy * t - 4.9 * t**2\n",
    "    dx = Vix * t\n",
    "    Vfy = Viy - 9.8 * t\n",
    "    if (dy < -height):\n",
    "        break\n",
    "    print(\"dy:\", str(dy)[0:5], \"dx:\", str(dx)[0:5], \"time:\", str(t)[0:3], \"Vfy:\", str(Vfy)[0:5])"
   ]
  },
  {
   "attachments": {},
   "cell_type": "markdown",
   "metadata": {},
   "source": [
    "{% include lessonTable.html %}"
   ]
  },
  {
   "attachments": {},
   "cell_type": "markdown",
   "metadata": {},
   "source": [
    "# Geometry Dash\n",
    "![](https://cdn.akamai.steamstatic.com/steam/apps/322170/ss_89fd9afb5dea806cb0c696bbb2b4e602cc21a713.1920x1080.jpg?t=1624472273)\n",
    "One simulation used in geometry dash is a physics simulation where the game roughly simulates gravity and that changes throughout the game."
   ]
  }
 ],
 "metadata": {
  "kernelspec": {
   "display_name": "Python 3",
   "language": "python",
   "name": "python3"
  },
  "language_info": {
   "codemirror_mode": {
    "name": "ipython",
    "version": 3
   },
   "file_extension": ".py",
   "mimetype": "text/x-python",
   "name": "python",
   "nbconvert_exporter": "python",
   "pygments_lexer": "ipython3",
   "version": "3.8.10"
  },
  "orig_nbformat": 4,
  "vscode": {
   "interpreter": {
    "hash": "916dbcbb3f70747c44a77c7bcd40155683ae19c65e1c03b4aa3499c5328201f1"
   }
  }
 },
 "nbformat": 4,
 "nbformat_minor": 2
}
